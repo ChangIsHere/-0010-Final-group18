{
 "cells": [
  {
   "cell_type": "markdown",
   "metadata": {},
   "source": [
    "# Group 18 Final Project [CMPINF 0010]"
   ]
  },
  {
   "cell_type": "markdown",
   "metadata": {},
   "source": [
    "### Chang,Zhou / Zixuan Li / Group Name: Rocket\n"
   ]
  },
  {
   "cell_type": "markdown",
   "metadata": {},
   "source": [
    "### Introduction: Safety-Based Assessment of Pittsburgh's \"Best\" Neighborhoods"
   ]
  },
  {
   "cell_type": "markdown",
   "metadata": {},
   "source": [
    "#### Why safety\n",
    "Safety is often considered one of the most important indicators for assessing the quality of a residential area. When deciding where to live, individuals and families consider safety first, as a safe environment is the basis for the physical and mental health of residents and the security of their property. A low crime rate in a community indicates that residents can live and work without fear of personal safety or property damage, thus improving their quality of life and residential satisfaction.\n",
    "\n",
    "In addition, the safety of a community has a direct impact on its attractiveness and real estate values. Safe neighborhoods are more likely to attract business investment and quality educational resources, promoting economic development and social stability. This positive feedback loop further enhances the overall competitiveness of the community, making it a desirable location for more people to choose to live.\n",
    "\n",
    "Therefore, in this project, we consider safety as a core indicator of the \"best neighborhoods\". This indicator is measured by three sub-indicators: educational attainment, crime rate, and social safety. The three datasets from the WPRDC used for the evaluation are: school enrollment, crime index, and social assistance rates.\n",
    "\n",
    "#### Three datasets for subindex\n",
    "Social Security (Persons Receiving Public Assistance): A strong social support system is effective in improving the overall sense of safety in a community. Communities with higher social assistance rates are usually better able to take care of vulnerable groups, thus enhancing overall community safety and stability.\n",
    "\n",
    "Crime Rates (Arrests for Major Crimes): low crime rates are a direct reflection of a community's level of safety. We use the crime index to measure and compare the security of communities, and believe that the lower the crime rate, the higher the community scores in the overall safety assessment.\n",
    "\n",
    "Educational attainment (Enrollment by School and Neighborhood): education is the foundation of community prosperity. It is hypothesized that the more educated a community is, the more competitive and safe its residents remain in socio-economic activities. Therefore, the educational attainment of a community is assessed by analyzing school enrollment rates.\n",
    "\n",
    "#### Plan\n",
    "By combining the scores of these three sub-indicators, we aim to determine which neighborhoods are doing the best job of maintaining safety, thus providing residents and policymakers with a data-driven, comprehensive evaluation of community safety. This project not only demonstrates data visualization and its corresponding analyses and comparisons, but also provides perspectives on the \"best neighborhoods to vote for\" as well as practical recommendations to help and improve the neighborhood's living environment."
   ]
  },
  {
   "cell_type": "code",
   "execution_count": null,
   "metadata": {},
   "outputs": [],
   "source": []
  },
  {
   "cell_type": "markdown",
   "metadata": {},
   "source": [
    "### Outline"
   ]
  },
  {
   "cell_type": "markdown",
   "metadata": {},
   "source": [
    "### Data1: Persons Receiving Public Assistance"
   ]
  },
  {
   "cell_type": "markdown",
   "metadata": {},
   "source": [
    "### Data2: Arrests for Major Crimes"
   ]
  },
  {
   "cell_type": "markdown",
   "metadata": {},
   "source": [
    "### Data3: Enrollment by School and Neighborhood"
   ]
  },
  {
   "cell_type": "markdown",
   "metadata": {},
   "source": [
    "### Which Neighborhood is the best?"
   ]
  },
  {
   "cell_type": "markdown",
   "metadata": {},
   "source": [
    "### Which one is my favourite?"
   ]
  },
  {
   "cell_type": "markdown",
   "metadata": {},
   "source": [
    "### Suggestion"
   ]
  },
  {
   "cell_type": "code",
   "execution_count": null,
   "metadata": {},
   "outputs": [],
   "source": []
  }
 ],
 "metadata": {
  "kernelspec": {
   "display_name": "Python 3",
   "language": "python",
   "name": "python3"
  },
  "language_info": {
   "codemirror_mode": {
    "name": "ipython",
    "version": 3
   },
   "file_extension": ".py",
   "mimetype": "text/x-python",
   "name": "python",
   "nbconvert_exporter": "python",
   "pygments_lexer": "ipython3",
   "version": "3.8.3"
  }
 },
 "nbformat": 4,
 "nbformat_minor": 4
}
